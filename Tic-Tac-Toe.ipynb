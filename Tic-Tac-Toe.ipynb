{
 "cells": [
  {
   "cell_type": "code",
   "execution_count": 1,
   "metadata": {},
   "outputs": [],
   "source": [
    "#1 - Create display board\n",
    "from IPython.display import clear_output\n",
    "\n",
    "def display(test_board):\n",
    "    clear_output()\n",
    "    print(test_board[7] + \"|\" + test_board[8] + \"|\" + test_board[9])\n",
    "    print(test_board[4] + \"|\" + test_board[5] + \"|\" + test_board[6])\n",
    "    print(test_board[1] + \"|\" + test_board[2] + \"|\" + test_board[3])"
   ]
  },
  {
   "cell_type": "code",
   "execution_count": 2,
   "metadata": {},
   "outputs": [],
   "source": [
    "#2 - Take input from user if they want to be '0' or 'X'\n",
    "def player_input():\n",
    "    marker = \"\"\n",
    "    \n",
    "    while not(marker == 'X' or marker == \"O\"):\n",
    "        marker = input(\"Player 1 : Do you want to be X or O\").upper()\n",
    "        \n",
    "    if marker == 'X':\n",
    "        return ('X' , 'O')\n",
    "    else:\n",
    "        return ('O' , 'X')"
   ]
  },
  {
   "cell_type": "code",
   "execution_count": 3,
   "metadata": {},
   "outputs": [
    {
     "name": "stdout",
     "output_type": "stream",
     "text": [
      "Player 1 : Do you want to be X or Ox\n",
      "X\n",
      "O\n"
     ]
    }
   ],
   "source": [
    "player1_marker , player2_marker = player_input()\n",
    "print(player1_marker)\n",
    "print(player2_marker)"
   ]
  },
  {
   "cell_type": "code",
   "execution_count": 4,
   "metadata": {},
   "outputs": [],
   "source": [
    "#3 - Fill the user value on board\n",
    "def place_marker(board, marker, position):\n",
    "    board[position] = marker"
   ]
  },
  {
   "cell_type": "code",
   "execution_count": 5,
   "metadata": {},
   "outputs": [
    {
     "name": "stdout",
     "output_type": "stream",
     "text": [
      "G|H|I\n",
      "P|E|F\n",
      "A|B|C\n"
     ]
    }
   ],
   "source": [
    "test_board = [\"Z\" , \"A\" , \"B\" , \"C\" , \"D\" , \"E\" , \"F\" , \"G\" , \"H\" , \"I\"]\n",
    "display(test_board)\n",
    "\n",
    "place_marker(test_board , \"P\" , 4)\n",
    "display(test_board)"
   ]
  },
  {
   "cell_type": "code",
   "execution_count": 6,
   "metadata": {},
   "outputs": [],
   "source": [
    "#4 - Winning goals\\\n",
    "def win_check(board, mark):\n",
    "    return ( (board[7] == mark and board[8] == mark and board[9] == mark) or #across the top\n",
    "             (board[4] == mark and board[5] == mark and board[6] == mark) or #across the middle\n",
    "             (board[1] == mark and board[2] == mark and board[3] == mark) or #across the bottom\n",
    "             (board[7] == mark and board[4] == mark and board[1] == mark) or #down the left side\n",
    "             (board[2] == mark and board[8] == mark and board[5] == mark) or #down the middle\n",
    "             (board[3] == mark and board[6] == mark and board[9] == mark) or #down the right side\n",
    "             (board[7] == mark and board[5] == mark and board[3] == mark) #2 diagonal\n",
    "             (board[9] == mark and board[5] == mark and board[1] == mark)\n",
    "           )"
   ]
  },
  {
   "cell_type": "code",
   "execution_count": 7,
   "metadata": {},
   "outputs": [],
   "source": [
    "#5 - if space is empty\n",
    "def space_check(board, position):\n",
    "    return board[position] == \" \""
   ]
  },
  {
   "cell_type": "code",
   "execution_count": 8,
   "metadata": {},
   "outputs": [],
   "source": [
    "#6 - Decide whose turn is first\n",
    "import random\n",
    "\n",
    "def choose_first():\n",
    "    if random.randint(0,1) == 0:\n",
    "        return 'Player 2'\n",
    "    else:\n",
    "        return 'Player 1'"
   ]
  },
  {
   "cell_type": "code",
   "execution_count": 9,
   "metadata": {},
   "outputs": [],
   "source": [
    "#7 - if board is already full\n",
    "def full_board_check(board):\n",
    "    for i in range(1, 10):\n",
    "        if space_check(board , i):\n",
    "            return False\n",
    "        return True"
   ]
  },
  {
   "cell_type": "code",
   "execution_count": 10,
   "metadata": {},
   "outputs": [],
   "source": [
    "#8 - Take the input from the user\n",
    "def player_choice(board):\n",
    "    position = 0\n",
    "    while position not in [1 , 2 , 3 , 4 , 5 , 6 , 7 , 8 , 9] or space_check(board, position):\n",
    "        position = int(input(\"Enter your position (1-9)\"))\n",
    "        \n",
    "    return position"
   ]
  },
  {
   "cell_type": "code",
   "execution_count": 11,
   "metadata": {},
   "outputs": [],
   "source": [
    "#9 - If user wants to play it again\n",
    "def replay():\n",
    "    return input(\"You want to play again (yes , no)\").lower().startswith('y')"
   ]
  },
  {
   "cell_type": "code",
   "execution_count": 12,
   "metadata": {},
   "outputs": [
    {
     "name": "stdout",
     "output_type": "stream",
     "text": [
      "Welcome to Tic-Tac-Toe!!!\n",
      "Player 1 : Do you want to be X or Oo\n",
      "Player 1 will go first\n",
      "Do you want to play it again (Yes/No)1\n",
      "You want to play again (yes , no)y\n",
      "Player 1 : Do you want to be X or Oyes\n",
      "Player 1 : Do you want to be X or Ox\n",
      "Player 2 will go first\n",
      "Do you want to play it again (Yes/No)no\n",
      "You want to play again (yes , no)no\n"
     ]
    }
   ],
   "source": [
    "#10 - Compile all\n",
    "print(\"Welcome to Tic-Tac-Toe!!!\")\n",
    "\n",
    "while True:\n",
    "    theBoard = [\" \"]*10\n",
    "    player1_marker , player2_marker = player_input()\n",
    "    turn = choose_first()\n",
    "    print(turn + \" will go first\")\n",
    "    \n",
    "    play_game = input(\"Do you want to play it again (Yes/No)\")\n",
    "    \n",
    "    if play_game.lower()[0] == 'y':\n",
    "        game_on = True\n",
    "    else:\n",
    "        game_on = False\n",
    "        \n",
    "    while game_on:\n",
    "        if turn == 'Player 1':\n",
    "            \n",
    "            display(theBoard)\n",
    "            position = player_choice(theBoard)\n",
    "            place_marker(theBoard , player1_marker , position)\n",
    "            \n",
    "            if win_check(theBoard , player1_marker):\n",
    "                display(theBoard)\n",
    "                print(\"Congratulations! You have won the game\")\n",
    "                game_on = False\n",
    "            else:\n",
    "                if full_board_check(theBoard):\n",
    "                    display(theBoard)\n",
    "                    print(\"The game is draw!!\")\n",
    "                    break\n",
    "                else:\n",
    "                    turn = \"Player 2\"\n",
    "                    \n",
    "        else:\n",
    "            display(theBoard)\n",
    "            position = player_choice(theBoard)\n",
    "            place_marker(theBoard , player1_marker , position)\n",
    "            \n",
    "            if win_check(theBoard , player1_marker):\n",
    "                display(theBoard)\n",
    "                print(\"Congratulations! You have won the game\")\n",
    "                game_on = False\n",
    "            else:\n",
    "                if full_board_check(theBoard):\n",
    "                    display(theBoard)\n",
    "                    print(\"The game is draw!!\")\n",
    "                    break\n",
    "                else:\n",
    "                    turn = \"Player 1\"\n",
    "                    \n",
    "    if not replay():\n",
    "        break"
   ]
  },
  {
   "cell_type": "code",
   "execution_count": null,
   "metadata": {},
   "outputs": [],
   "source": []
  }
 ],
 "metadata": {
  "kernelspec": {
   "display_name": "Python 3",
   "language": "python",
   "name": "python3"
  },
  "language_info": {
   "codemirror_mode": {
    "name": "ipython",
    "version": 3
   },
   "file_extension": ".py",
   "mimetype": "text/x-python",
   "name": "python",
   "nbconvert_exporter": "python",
   "pygments_lexer": "ipython3",
   "version": "3.8.5"
  }
 },
 "nbformat": 4,
 "nbformat_minor": 4
}
